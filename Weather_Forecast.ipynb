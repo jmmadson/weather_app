{
 "cells": [
  {
   "cell_type": "code",
   "execution_count": 6,
   "id": "ceec04c2",
   "metadata": {},
   "outputs": [],
   "source": [
    "#Import Dependancies\n",
    "\n",
    "import pgeocode\n",
    "import pandas as pd\n",
    "import numpy as np\n",
    "from flask import Flask"
   ]
  },
  {
   "cell_type": "code",
   "execution_count": 7,
   "id": "0181bb14",
   "metadata": {},
   "outputs": [
    {
     "name": "stdout",
     "output_type": "stream",
     "text": [
      "Enter Zipcode: 90210\n",
      "Your Zipcode is: 90210. Great, now let's get the weather!\n"
     ]
    }
   ],
   "source": [
    "# User Input of Zip Code\n",
    "location = input(\"Enter Zipcode: \")\n",
    "print(\"Your Zipcode is: \" + location + \". Great, now let\\'s get the weather!\")\n",
    "\n",
    "currentLoc = location"
   ]
  },
  {
   "cell_type": "code",
   "execution_count": 8,
   "id": "71b843fd",
   "metadata": {},
   "outputs": [
    {
     "data": {
      "text/plain": [
       "postal_code               90210\n",
       "country_code                 US\n",
       "place_name        Beverly Hills\n",
       "state_name           California\n",
       "state_code                   CA\n",
       "county_name         Los Angeles\n",
       "county_code                37.0\n",
       "community_name              NaN\n",
       "community_code              NaN\n",
       "latitude                34.0901\n",
       "longitude             -118.4065\n",
       "accuracy                    4.0\n",
       "Name: 0, dtype: object"
      ]
     },
     "execution_count": 8,
     "metadata": {},
     "output_type": "execute_result"
    }
   ],
   "source": [
    "# Turn Zip into Coordinates\n",
    "zip = pgeocode.Nominatim('us')\n",
    "df = zip.query_postal_code(currentLoc)\n",
    "\n",
    "df.head(15)"
   ]
  },
  {
   "cell_type": "code",
   "execution_count": 9,
   "id": "67f6c9f4",
   "metadata": {},
   "outputs": [],
   "source": [
    "# pull coordinates into a variable to submit with API\n",
    "dfLat = str(df['latitude'])\n",
    "dfLong = str(df['longitude'])\n",
    "\n"
   ]
  },
  {
   "cell_type": "code",
   "execution_count": 10,
   "id": "a1402f7c",
   "metadata": {},
   "outputs": [
    {
     "name": "stdout",
     "output_type": "stream",
     "text": [
      "https://api.weather.gov/points/34.0901,-118.4065\n"
     ]
    }
   ],
   "source": [
    "# Create API URL \n",
    "\n",
    "url = \"https://api.weather.gov/points/\"\n",
    "weatherUrl = url + dfLat + \",\" + dfLong\n",
    "\n",
    "print(weatherURL)"
   ]
  },
  {
   "cell_type": "code",
   "execution_count": 11,
   "id": "af5f900f",
   "metadata": {},
   "outputs": [],
   "source": [
    "# Get Forecast Data from JSON\n",
    "\n",
    "    \n",
    "\n",
    "\n"
   ]
  },
  {
   "cell_type": "code",
   "execution_count": null,
   "id": "a00ec74d",
   "metadata": {},
   "outputs": [],
   "source": [
    "# Return Current Weather Forecast"
   ]
  }
 ],
 "metadata": {
  "kernelspec": {
   "display_name": "Python 3",
   "language": "python",
   "name": "python3"
  },
  "language_info": {
   "codemirror_mode": {
    "name": "ipython",
    "version": 3
   },
   "file_extension": ".py",
   "mimetype": "text/x-python",
   "name": "python",
   "nbconvert_exporter": "python",
   "pygments_lexer": "ipython3",
   "version": "3.8.8"
  }
 },
 "nbformat": 4,
 "nbformat_minor": 5
}
